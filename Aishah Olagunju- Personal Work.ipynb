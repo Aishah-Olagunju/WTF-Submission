{
 "cells": [
  {
   "cell_type": "markdown",
   "id": "3ab852d8",
   "metadata": {},
   "source": [
    "# Q1: Print all elements of a list using for loop"
   ]
  },
  {
   "cell_type": "code",
   "execution_count": 1,
   "id": "69fc523e",
   "metadata": {
    "scrolled": true
   },
   "outputs": [
    {
     "name": "stdout",
     "output_type": "stream",
     "text": [
      "-----Elements in List-----\n",
      "Justina\n",
      "Ameenah\n",
      "Cecilia\n",
      "Balkisu\n",
      "Chinyere\n"
     ]
    }
   ],
   "source": [
    "##Heading\n",
    "print('-----Elements in List-----')\n",
    "\n",
    "##Naming and printing the list\n",
    "Name = ['Justina', 'Ameenah', 'Cecilia', 'Balkisu', 'Chinyere']\n",
    "for n in Name:\n",
    "    print (n)"
   ]
  },
  {
   "cell_type": "code",
   "execution_count": null,
   "id": "6cdb593b",
   "metadata": {},
   "outputs": [],
   "source": []
  },
  {
   "cell_type": "code",
   "execution_count": null,
   "id": "eb7ed9ac",
   "metadata": {},
   "outputs": [],
   "source": []
  },
  {
   "cell_type": "markdown",
   "id": "c20964cc",
   "metadata": {},
   "source": [
    "# Q2A: All Even Numbers between 1-100"
   ]
  },
  {
   "cell_type": "code",
   "execution_count": 2,
   "id": "4fc2e579",
   "metadata": {
    "scrolled": false
   },
   "outputs": [
    {
     "name": "stdout",
     "output_type": "stream",
     "text": [
      "***Even Numbers***\n",
      "2 is an even number\n",
      "4 is an even number\n",
      "6 is an even number\n",
      "8 is an even number\n",
      "10 is an even number\n",
      "12 is an even number\n",
      "14 is an even number\n",
      "16 is an even number\n",
      "18 is an even number\n",
      "20 is an even number\n",
      "22 is an even number\n",
      "24 is an even number\n",
      "26 is an even number\n",
      "28 is an even number\n",
      "30 is an even number\n",
      "32 is an even number\n",
      "34 is an even number\n",
      "36 is an even number\n",
      "38 is an even number\n",
      "40 is an even number\n",
      "42 is an even number\n",
      "44 is an even number\n",
      "46 is an even number\n",
      "48 is an even number\n",
      "50 is an even number\n",
      "52 is an even number\n",
      "54 is an even number\n",
      "56 is an even number\n",
      "58 is an even number\n",
      "60 is an even number\n",
      "62 is an even number\n",
      "64 is an even number\n",
      "66 is an even number\n",
      "68 is an even number\n",
      "70 is an even number\n",
      "72 is an even number\n",
      "74 is an even number\n",
      "76 is an even number\n",
      "78 is an even number\n",
      "80 is an even number\n",
      "82 is an even number\n",
      "84 is an even number\n",
      "86 is an even number\n",
      "88 is an even number\n",
      "90 is an even number\n",
      "92 is an even number\n",
      "94 is an even number\n",
      "96 is an even number\n",
      "98 is an even number\n",
      "100 is an even number\n"
     ]
    }
   ],
   "source": [
    "##Heading\n",
    "print('***Even Numbers***')\n",
    "\n",
    "##Printing Even Numbers\n",
    "for i in range(1,101):\n",
    "    if i %2==0:\n",
    "        print(str(i) + ' is an even number')"
   ]
  },
  {
   "cell_type": "code",
   "execution_count": null,
   "id": "ec753d48",
   "metadata": {},
   "outputs": [],
   "source": []
  },
  {
   "cell_type": "code",
   "execution_count": null,
   "id": "ec42ec84",
   "metadata": {},
   "outputs": [],
   "source": []
  },
  {
   "cell_type": "markdown",
   "id": "0a4958ee",
   "metadata": {},
   "source": [
    "# Q2B: All Odd Numbers between 1-100"
   ]
  },
  {
   "cell_type": "code",
   "execution_count": 3,
   "id": "4b626ad6",
   "metadata": {
    "scrolled": false
   },
   "outputs": [
    {
     "name": "stdout",
     "output_type": "stream",
     "text": [
      "***Odd Numbers***\n",
      "1 is an odd number\n",
      "3 is an odd number\n",
      "5 is an odd number\n",
      "7 is an odd number\n",
      "9 is an odd number\n",
      "11 is an odd number\n",
      "13 is an odd number\n",
      "15 is an odd number\n",
      "17 is an odd number\n",
      "19 is an odd number\n",
      "21 is an odd number\n",
      "23 is an odd number\n",
      "25 is an odd number\n",
      "27 is an odd number\n",
      "29 is an odd number\n",
      "31 is an odd number\n",
      "33 is an odd number\n",
      "35 is an odd number\n",
      "37 is an odd number\n",
      "39 is an odd number\n",
      "41 is an odd number\n",
      "43 is an odd number\n",
      "45 is an odd number\n",
      "47 is an odd number\n",
      "49 is an odd number\n",
      "51 is an odd number\n",
      "53 is an odd number\n",
      "55 is an odd number\n",
      "57 is an odd number\n",
      "59 is an odd number\n",
      "61 is an odd number\n",
      "63 is an odd number\n",
      "65 is an odd number\n",
      "67 is an odd number\n",
      "69 is an odd number\n",
      "71 is an odd number\n",
      "73 is an odd number\n",
      "75 is an odd number\n",
      "77 is an odd number\n",
      "79 is an odd number\n",
      "81 is an odd number\n",
      "83 is an odd number\n",
      "85 is an odd number\n",
      "87 is an odd number\n",
      "89 is an odd number\n",
      "91 is an odd number\n",
      "93 is an odd number\n",
      "95 is an odd number\n",
      "97 is an odd number\n",
      "99 is an odd number\n"
     ]
    }
   ],
   "source": [
    "##Heading\n",
    "print('***Odd Numbers***')\n",
    "\n",
    "##Printing Odd Numbers\n",
    "for i in range(1, 101):\n",
    "    if i%2 != 0:\n",
    "        print(str(i) + ' is an odd number')"
   ]
  },
  {
   "cell_type": "code",
   "execution_count": null,
   "id": "0b9cc0f0",
   "metadata": {},
   "outputs": [],
   "source": []
  },
  {
   "cell_type": "code",
   "execution_count": null,
   "id": "815b6791",
   "metadata": {},
   "outputs": [],
   "source": []
  },
  {
   "cell_type": "markdown",
   "id": "e349f830",
   "metadata": {},
   "source": [
    "# Q3: Calculate Employee's Bonus"
   ]
  },
  {
   "cell_type": "code",
   "execution_count": 4,
   "id": "845e09a0",
   "metadata": {},
   "outputs": [
    {
     "name": "stdout",
     "output_type": "stream",
     "text": [
      "How much do you earn?: 50000\n",
      "How many years have you worked with us?: 7\n",
      "Net bonus is 2500.0\n"
     ]
    }
   ],
   "source": [
    "##Getting employee's salary and years of service as an integer\n",
    "salary = int(input('How much do you earn?: '))\n",
    "YOS = int(input('How many years have you worked with us?: '))\n",
    "\n",
    "##Calculating bonus if criteria is met\n",
    "if YOS >= 5:\n",
    "    print ('Net bonus is ' + str(0.05*salary))\n",
    "else:\n",
    "    print('You do not qualify for a bonus')"
   ]
  },
  {
   "cell_type": "code",
   "execution_count": null,
   "id": "68e949be",
   "metadata": {},
   "outputs": [],
   "source": []
  },
  {
   "cell_type": "code",
   "execution_count": null,
   "id": "b2c77dea",
   "metadata": {},
   "outputs": [],
   "source": []
  },
  {
   "cell_type": "markdown",
   "id": "b4a18b6d",
   "metadata": {},
   "source": [
    "# Q4: Oldest and Youngest user"
   ]
  },
  {
   "cell_type": "code",
   "execution_count": 5,
   "id": "0e793d57",
   "metadata": {},
   "outputs": [
    {
     "name": "stdout",
     "output_type": "stream",
     "text": [
      "How old are you?: 18\n",
      "How old are you?: 24\n",
      "How old are you?: 21\n",
      "Youngest user is 18 years old\n",
      "Oldest user is 24 years old\n"
     ]
    }
   ],
   "source": [
    "\n",
    "##Getting Users' Ages\n",
    "User1 = input('How old are you?: ')\n",
    "User2 = input('How old are you?: ')\n",
    "User3 = input('How old are you?: ')\n",
    "\n",
    "##Putting users' ages in a list\n",
    "Ages = [User1, User2, User3]\n",
    "\n",
    "\n",
    "##Getting the minimum age\n",
    "min= Ages[0]\n",
    "for a in Ages:\n",
    "    if a < min:\n",
    "        min = a\n",
    "print('Youngest user is ' + min + ' years old')\n",
    "\n",
    "##Getting the maximum age\n",
    "max= Ages[0]\n",
    "for m in Ages:\n",
    "    if m > max:\n",
    "        max = m\n",
    "print('Oldest user is ' + max + ' years old')\n"
   ]
  },
  {
   "cell_type": "code",
   "execution_count": null,
   "id": "0b560b59",
   "metadata": {},
   "outputs": [],
   "source": []
  },
  {
   "cell_type": "code",
   "execution_count": null,
   "id": "7a1e3538",
   "metadata": {},
   "outputs": [],
   "source": []
  },
  {
   "cell_type": "markdown",
   "id": "1ce31f1c",
   "metadata": {},
   "source": [
    "# Q5: Calculate Student's Grade"
   ]
  },
  {
   "cell_type": "code",
   "execution_count": 22,
   "id": "0823dec7",
   "metadata": {
    "scrolled": true
   },
   "outputs": [
    {
     "name": "stdout",
     "output_type": "stream",
     "text": [
      "What did you score in Mathematics?: 58\n",
      "What did you score in English Language?: 76\n",
      "What did you score in Education?: 81\n",
      "What did you score in ICT?: 63\n",
      "C\n",
      "B\n",
      "A\n",
      "B\n"
     ]
    }
   ],
   "source": [
    "##User's scores\n",
    "Mathematics= int(input('What did you score in Mathematics?: '))\n",
    "English = int(input('What did you score in English Language?: '))\n",
    "Education = int(input('What did you score in Education?: '))\n",
    "ICT = int(input('What did you score in ICT?: '))\n",
    "\n",
    "Grade = [Mathematics, English, Education, ICT]\n",
    "\n",
    "\n",
    "##Classifying score into a grade\n",
    "\n",
    "for s in Grade:\n",
    "    if s <25:\n",
    "        print('F')\n",
    "    elif s <45:\n",
    "        print('E')\n",
    "    elif s <50:\n",
    "        print('D')\n",
    "    elif s <60:\n",
    "        print('C')\n",
    "    elif s <=80:\n",
    "        print('B')\n",
    "    else:\n",
    "        print('A' )\n"
   ]
  },
  {
   "cell_type": "code",
   "execution_count": null,
   "id": "7d843faa",
   "metadata": {},
   "outputs": [],
   "source": []
  },
  {
   "cell_type": "code",
   "execution_count": null,
   "id": "9a392677",
   "metadata": {},
   "outputs": [],
   "source": []
  },
  {
   "cell_type": "markdown",
   "id": "0d9b5654",
   "metadata": {},
   "source": [
    "# Q6: Merging two Dictionaries"
   ]
  },
  {
   "cell_type": "code",
   "execution_count": 21,
   "id": "bd45a37e",
   "metadata": {},
   "outputs": [
    {
     "name": "stdout",
     "output_type": "stream",
     "text": [
      "{'Ade': 16, 'David': 15, 'Damilola': 16, 'Deborah': 17, 'Amina': 15, 'Chiamaka': 16}\n"
     ]
    }
   ],
   "source": [
    "##defining function merge \n",
    "def merge(dict1, dict2):\n",
    "    \"\"\"\"\n",
    "    Merges dictionary 1 and 2\n",
    "    \"\"\"\n",
    "    dict=dict1.copy()\n",
    "    dict.update(dict2)\n",
    "    print(dict)\n",
    "    \n",
    "    \n",
    "##Using function\n",
    "Science = {'Ade':16, 'David':15, 'Damilola':16}\n",
    "Arts = {'Deborah':17, 'Amina':15, 'Chiamaka':16}\n",
    "merge(Science, Arts)"
   ]
  },
  {
   "cell_type": "code",
   "execution_count": null,
   "id": "8914e32b",
   "metadata": {},
   "outputs": [],
   "source": []
  },
  {
   "cell_type": "code",
   "execution_count": null,
   "id": "da08abf2",
   "metadata": {},
   "outputs": [],
   "source": []
  },
  {
   "cell_type": "markdown",
   "id": "fe34deb9",
   "metadata": {},
   "source": [
    "# Q7: Removing Key from a dictionary"
   ]
  },
  {
   "cell_type": "code",
   "execution_count": 20,
   "id": "27255865",
   "metadata": {},
   "outputs": [
    {
     "name": "stdout",
     "output_type": "stream",
     "text": [
      "{'Father': 'Adam', 'Mother': 'Eve'}\n"
     ]
    }
   ],
   "source": [
    "##Defining Function remove\n",
    "def remove(dict, key):\n",
    "    \n",
    "    \"\"\"\"\n",
    "    removes key from\n",
    "    the dictionary\n",
    "    \"\"\"\n",
    "    \n",
    "    del dict[key]\n",
    "    print(dict)\n",
    "    \n",
    "  ##Using fuunction  \n",
    "Family = {'Father': 'Adam', 'Mother':'Eve', 'Child': 'Abel'}\n",
    "remove(Family, 'Child')\n"
   ]
  },
  {
   "cell_type": "code",
   "execution_count": null,
   "id": "5d290637",
   "metadata": {},
   "outputs": [],
   "source": []
  },
  {
   "cell_type": "code",
   "execution_count": null,
   "id": "9f52f62b",
   "metadata": {},
   "outputs": [],
   "source": []
  },
  {
   "cell_type": "markdown",
   "id": "344e71b4",
   "metadata": {},
   "source": [
    "# Q8: Getting largest number from a list"
   ]
  },
  {
   "cell_type": "code",
   "execution_count": 10,
   "id": "bb0f05d8",
   "metadata": {},
   "outputs": [
    {
     "name": "stdout",
     "output_type": "stream",
     "text": [
      "7\n"
     ]
    }
   ],
   "source": [
    "##Defining function MAX\n",
    "def MAX(num_list):\n",
    "    \"\"\"\"\n",
    "    This function returns the \n",
    "    largest number in a list\n",
    "    \"\"\"\n",
    "\n",
    "    Max = num_list[0]\n",
    "    for i in Num:\n",
    "        if i > Max:\n",
    "            Max = i\n",
    "    print(Max)\n",
    "##Using function\n",
    "Num = [2, 4, -8, 7, 1, 5]\n",
    "MAX(Num)"
   ]
  }
 ],
 "metadata": {
  "kernelspec": {
   "display_name": "Python 3",
   "language": "python",
   "name": "python3"
  },
  "language_info": {
   "codemirror_mode": {
    "name": "ipython",
    "version": 3
   },
   "file_extension": ".py",
   "mimetype": "text/x-python",
   "name": "python",
   "nbconvert_exporter": "python",
   "pygments_lexer": "ipython3",
   "version": "3.8.8"
  }
 },
 "nbformat": 4,
 "nbformat_minor": 5
}
